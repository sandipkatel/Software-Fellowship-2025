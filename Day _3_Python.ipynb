{
 "cells": [
  {
   "cell_type": "markdown",
   "metadata": {},
   "source": [
    "# Feel Free to Play around Jupyter Notebook\n",
    "## If you are stuck don't worry we are always here to assist you"
   ]
  },
  {
   "cell_type": "markdown",
   "metadata": {},
   "source": [
    "# Day 3: Python Scripting + API Usage Practice"
   ]
  },
  {
   "cell_type": "markdown",
   "metadata": {},
   "source": [
    "### Syllabus:\n",
    "- Python review: loops, functions, data structures\n",
    "- Writing reusable scripts\n",
    "- Consuming third-party APIs (e.g., OpenWeather, Gemini)\n",
    "- JSON parsing in Python"
   ]
  },
  {
   "cell_type": "markdown",
   "metadata": {},
   "source": [
    "# 1. The Magic of Print() 🎭\n",
    "Your first Python superpower!"
   ]
  },
  {
   "cell_type": "code",
   "execution_count": 1,
   "metadata": {
    "colab": {
     "base_uri": "https://localhost:8080/"
    },
    "executionInfo": {
     "elapsed": 460,
     "status": "ok",
     "timestamp": 1721493279495,
     "user": {
      "displayName": "Samip Neupane",
      "userId": "08241621723804647931"
     },
     "user_tz": -345
    },
    "id": "ujRHN_iq2GIn",
    "outputId": "6af6f31f-b2aa-428d-e451-ae509ab28a84"
   },
   "outputs": [
    {
     "name": "stdout",
     "output_type": "stream",
     "text": [
      "Hello, World!\n"
     ]
    }
   ],
   "source": [
    "print(\"Hello, World!\")"
   ]
  },
  {
   "cell_type": "code",
   "execution_count": 2,
   "metadata": {},
   "outputs": [
    {
     "name": "stdout",
     "output_type": "stream",
     "text": [
      "Hello, Future Python Developer!\n"
     ]
    }
   ],
   "source": [
    "# Basic printing\n",
    "print(\"Hello, Future Python Developer!\")"
   ]
  },
  {
   "cell_type": "code",
   "execution_count": 3,
   "metadata": {},
   "outputs": [
    {
     "name": "stdout",
     "output_type": "stream",
     "text": [
      "My name is Ram and I'm 20 years old\n"
     ]
    }
   ],
   "source": [
    "# Multiple items\n",
    "print(\"My name is\", \"Ram\", \"and I'm\", 20, \"years old\")"
   ]
  },
  {
   "cell_type": "code",
   "execution_count": 4,
   "metadata": {},
   "outputs": [
    {
     "name": "stdout",
     "output_type": "stream",
     "text": [
      "Cat & Dog & Bird\n"
     ]
    }
   ],
   "source": [
    "# With separators\n",
    "print(\"Cat\", \"Dog\", \"Bird\", sep=\" & \")"
   ]
  },
  {
   "cell_type": "markdown",
   "metadata": {},
   "source": [
    "#### Question\n",
    "```\n",
    "print(\"🎉\" * 10)\n",
    "```"
   ]
  },
  {
   "cell_type": "code",
   "execution_count": null,
   "metadata": {},
   "outputs": [],
   "source": []
  },
  {
   "cell_type": "markdown",
   "metadata": {},
   "source": [
    "# 2.  Input() - Talk to Your Computer 💬\n",
    "Making programs interactive (finally!)"
   ]
  },
  {
   "cell_type": "code",
   "execution_count": 5,
   "metadata": {},
   "outputs": [
    {
     "name": "stdout",
     "output_type": "stream",
     "text": [
      "Hello, Saphal!\n"
     ]
    }
   ],
   "source": [
    "# Basic input\n",
    "name = input(\"What's your name? \")\n",
    "print(f\"Hello, {name}!\")"
   ]
  },
  {
   "cell_type": "code",
   "execution_count": 6,
   "metadata": {},
   "outputs": [
    {
     "name": "stdout",
     "output_type": "stream",
     "text": [
      "You are 12 years old\n"
     ]
    }
   ],
   "source": [
    "# Input is always a string\n",
    "age = input(\"How old are you? \")\n",
    "print(f\"You are {age} years old\")"
   ]
  },
  {
   "cell_type": "markdown",
   "metadata": {},
   "source": [
    "Remember: input() always returns a string, even if you type numbers!"
   ]
  },
  {
   "cell_type": "markdown",
   "metadata": {
    "id": "Tyi3ADg1k_Kb"
   },
   "source": [
    "# 3. Variables - Your Data Storage Units 📦\n",
    "Containers for storing data values. In Python, variables do not need explicit declaration to reserve memory space."
   ]
  },
  {
   "cell_type": "code",
   "execution_count": 7,
   "metadata": {
    "id": "bQkkerpA0O8M"
   },
   "outputs": [],
   "source": [
    "# Numbers\n",
    "pizza_slices = 8\n",
    "price = 12.99"
   ]
  },
  {
   "cell_type": "code",
   "execution_count": 8,
   "metadata": {},
   "outputs": [],
   "source": [
    "# Text (strings)\n",
    "favorite_movie = \"The Matrix\"\n",
    "emoji_mood = \"😎\""
   ]
  },
  {
   "cell_type": "code",
   "execution_count": 9,
   "metadata": {},
   "outputs": [],
   "source": [
    "# Boolean (True/False)\n",
    "is_hungry = True\n",
    "loves_python = True  # Obviously!"
   ]
  },
  {
   "cell_type": "markdown",
   "metadata": {},
   "source": [
    "#### Question\n",
    "```\n",
    "x, y, z = 1, 2, 3\n",
    "```"
   ]
  },
  {
   "cell_type": "code",
   "execution_count": null,
   "metadata": {},
   "outputs": [],
   "source": []
  },
  {
   "cell_type": "markdown",
   "metadata": {},
   "source": [
    "\"Python variables are like teenagers - they change type whenever they want!\""
   ]
  },
  {
   "cell_type": "markdown",
   "metadata": {},
   "source": [
    "# 4. Type Conversion - The Shape Shifters 🔄\n",
    "- Converting data types using functions like `int()`, `float()`, `str()`, `bool()`.\n",
    "\n",
    "**Data Types**:\n",
    "- Common data types in Python include integers (`int`), floating-point numbers (`float`), strings (`str`), booleans (`bool`), and lists (`list`)."
   ]
  },
  {
   "cell_type": "code",
   "execution_count": 10,
   "metadata": {
    "colab": {
     "base_uri": "https://localhost:8080/"
    },
    "executionInfo": {
     "elapsed": 6,
     "status": "ok",
     "timestamp": 1721493285075,
     "user": {
      "displayName": "Samip Neupane",
      "userId": "08241621723804647931"
     },
     "user_tz": -345
    },
    "id": "LcakCX0r2r-L",
    "outputId": "a91a03e3-7a66-42a5-acde-fe5b75ec5fa2"
   },
   "outputs": [
    {
     "name": "stdout",
     "output_type": "stream",
     "text": [
      "<class 'str'>\n"
     ]
    }
   ],
   "source": [
    "# String to Integer\n",
    "age_text = \"25\"\n",
    "print(type(age_text))"
   ]
  },
  {
   "cell_type": "code",
   "execution_count": 11,
   "metadata": {},
   "outputs": [
    {
     "ename": "TypeError",
     "evalue": "can only concatenate str (not \"int\") to str",
     "output_type": "error",
     "traceback": [
      "\u001b[31m---------------------------------------------------------------------------\u001b[39m",
      "\u001b[31mTypeError\u001b[39m                                 Traceback (most recent call last)",
      "\u001b[36mCell\u001b[39m\u001b[36m \u001b[39m\u001b[32mIn[11]\u001b[39m\u001b[32m, line 1\u001b[39m\n\u001b[32m----> \u001b[39m\u001b[32m1\u001b[39m \u001b[38;5;28mprint\u001b[39m(\u001b[43mage_text\u001b[49m\u001b[43m \u001b[49m\u001b[43m+\u001b[49m\u001b[43m \u001b[49m\u001b[32;43m5\u001b[39;49m)\n",
      "\u001b[31mTypeError\u001b[39m: can only concatenate str (not \"int\") to str"
     ]
    }
   ],
   "source": [
    "print(age_text + 5)"
   ]
  },
  {
   "cell_type": "code",
   "execution_count": 12,
   "metadata": {},
   "outputs": [
    {
     "name": "stdout",
     "output_type": "stream",
     "text": [
      "17\n"
     ]
    }
   ],
   "source": [
    "age_number = int(age)\n",
    "print(age_number + 5)  # Now we can do math!"
   ]
  },
  {
   "cell_type": "code",
   "execution_count": 13,
   "metadata": {},
   "outputs": [],
   "source": [
    "# Integer to String\n",
    "score = 100\n",
    "message = \"Your score is \" + str(score)"
   ]
  },
  {
   "cell_type": "code",
   "execution_count": null,
   "metadata": {},
   "outputs": [],
   "source": [
    "# Float conversions\n",
    "price = float(\"19.99\")\n",
    "whole_price = int(price)  # 19 (loses decimal)"
   ]
  },
  {
   "cell_type": "code",
   "execution_count": null,
   "metadata": {},
   "outputs": [],
   "source": [
    "# Boolean conversions\n",
    "print(bool(0))      # False\n",
    "print(bool(42))     # True\n",
    "print(bool(\"\"))     # False\n",
    "print(bool(\"Hi\"))   # True"
   ]
  },
  {
   "cell_type": "markdown",
   "metadata": {
    "id": "yJzrST405_qF"
   },
   "source": [
    "### QUESTION\n",
    "What will happen if you try the following?\n",
    "```\n",
    "print(bool({\" \"})\n",
    "```"
   ]
  },
  {
   "cell_type": "code",
   "execution_count": null,
   "metadata": {},
   "outputs": [],
   "source": []
  },
  {
   "cell_type": "markdown",
   "metadata": {
    "id": "8Kq8b8j2lCRf"
   },
   "source": [
    "# 5. Conditional Statements - The Decision Makers 🤔\n",
    "Teaching your code to make choices"
   ]
  },
  {
   "cell_type": "code",
   "execution_count": null,
   "metadata": {
    "colab": {
     "base_uri": "https://localhost:8080/"
    },
    "executionInfo": {
     "elapsed": 4417,
     "status": "ok",
     "timestamp": 1721493295001,
     "user": {
      "displayName": "Samip Neupane",
      "userId": "08241621723804647931"
     },
     "user_tz": -345
    },
    "id": "9KXjE1Xc5Z-r",
    "outputId": "928fb5b2-8a2d-432d-d729-8b1b4fdf382a"
   },
   "outputs": [],
   "source": [
    "temperature = 25\n",
    "\n",
    "if temperature > 30:\n",
    "    print(\"🔥 It's hot! Time for ice cream!\")\n",
    "elif temperature > 20:\n",
    "    print(\"🌤️ Perfect weather!\")\n",
    "elif temperature > 10:\n",
    "    print(\"🧥 Grab a jacket!\")\n",
    "else:\n",
    "    print(\"🥶 Brrr! Stay inside!\")"
   ]
  },
  {
   "cell_type": "markdown",
   "metadata": {
    "id": "yJzrST405_qF"
   },
   "source": [
    "### QUESTION\n",
    "What will happen if you try the following?\n",
    "```\n",
    "mood = \"happy\" if temperature > 20 else \"grumpy\"\n",
    "print(mood)\n",
    "```"
   ]
  },
  {
   "cell_type": "markdown",
   "metadata": {
    "id": "16JOjSzT5lbt"
   },
   "source": []
  },
  {
   "cell_type": "markdown",
   "metadata": {},
   "source": [
    "One-liner (because we're fancy)"
   ]
  },
  {
   "cell_type": "markdown",
   "metadata": {},
   "source": [
    "# 6. Comparison Operators - The Judges ⚖️"
   ]
  },
  {
   "cell_type": "code",
   "execution_count": null,
   "metadata": {
    "colab": {
     "base_uri": "https://localhost:8080/",
     "height": 36
    },
    "executionInfo": {
     "elapsed": 13,
     "status": "ok",
     "timestamp": 1721493303717,
     "user": {
      "displayName": "Samip Neupane",
      "userId": "08241621723804647931"
     },
     "user_tz": -345
    },
    "id": "GqeU4-Kd77Ra",
    "outputId": "133ed7e3-287f-4bc9-fdcd-07514e0961c6"
   },
   "outputs": [],
   "source": [
    "# The usual suspects\n",
    "print(5 == 5)    # True (equal)\n",
    "print(5 != 3)    # True (not equal)\n",
    "print(5 > 3)     # True (greater)\n",
    "print(5 < 3)     # False (less)\n",
    "print(5 >= 5)    # True (greater or equal)\n",
    "print(5 <= 4)    # False (less or equal)"
   ]
  },
  {
   "cell_type": "code",
   "execution_count": null,
   "metadata": {},
   "outputs": [],
   "source": [
    "# String comparisons\n",
    "print(\"apple\" == \"apple\")  # True\n",
    "print(\"Apple\" == \"apple\")  # False (case sensitive!)"
   ]
  },
  {
   "cell_type": "markdown",
   "metadata": {
    "id": "yJzrST405_qF"
   },
   "source": [
    "### QUESTION\n",
    "What will happen if you try the following?\n",
    "```\n",
    "user_age = 18\n",
    "can_vote = user_age >= 18\n",
    "print(f\"Can vote:\", can_vote)\n",
    "```"
   ]
  },
  {
   "cell_type": "code",
   "execution_count": null,
   "metadata": {},
   "outputs": [],
   "source": []
  },
  {
   "cell_type": "markdown",
   "metadata": {},
   "source": [
    "# 7. Logical Operators - The Connectors 🔗\n",
    "Combining conditions like a logic ninja"
   ]
  },
  {
   "cell_type": "code",
   "execution_count": null,
   "metadata": {
    "colab": {
     "base_uri": "https://localhost:8080/"
    },
    "executionInfo": {
     "elapsed": 525,
     "status": "ok",
     "timestamp": 1721493311520,
     "user": {
      "displayName": "Samip Neupane",
      "userId": "08241621723804647931"
     },
     "user_tz": -345
    },
    "id": "DJWbCfZn-uQ8",
    "outputId": "7a149722-c8b9-4ecd-f00f-05804d6e1c17"
   },
   "outputs": [],
   "source": [
    "age = 25\n",
    "has_license = True\n",
    "has_car = False"
   ]
  },
  {
   "cell_type": "code",
   "execution_count": null,
   "metadata": {},
   "outputs": [],
   "source": [
    "# AND - both must be true\n",
    "can_drive = age >= 16 and has_license\n",
    "print(f\"Can drive: {can_drive}\")"
   ]
  },
  {
   "cell_type": "code",
   "execution_count": null,
   "metadata": {},
   "outputs": [],
   "source": [
    "# OR - at least one must be true\n",
    "can_travel = has_car or has_license\n",
    "print(f\"Can travel: {can_travel}\")"
   ]
  },
  {
   "cell_type": "code",
   "execution_count": null,
   "metadata": {},
   "outputs": [],
   "source": [
    "# NOT - flip the boolean\n",
    "is_minor = not (age >= 18)\n",
    "print(f\"Is minor: {is_minor}\")"
   ]
  },
  {
   "cell_type": "markdown",
   "metadata": {
    "id": "yJzrST405_qF"
   },
   "source": [
    "### QUESTION\n",
    "What will happen if you try the following?\n",
    "```\n",
    "can_uber = (age >= 18) and (not has_car) and has_license\n",
    "```"
   ]
  },
  {
   "cell_type": "code",
   "execution_count": null,
   "metadata": {},
   "outputs": [],
   "source": []
  },
  {
   "cell_type": "markdown",
   "metadata": {},
   "source": [
    "# 8. For Loops - The Repetition Masters 🔄\n",
    "When you need to do something multiple times"
   ]
  },
  {
   "cell_type": "code",
   "execution_count": null,
   "metadata": {},
   "outputs": [],
   "source": [
    "# Basic counting\n",
    "for i in range(5):\n",
    "    print(f\"Count: {i}\")"
   ]
  },
  {
   "cell_type": "code",
   "execution_count": null,
   "metadata": {},
   "outputs": [],
   "source": [
    "# Counting with style\n",
    "for i in range(1, 6):\n",
    "    print(\"🎯\" * i)"
   ]
  },
  {
   "cell_type": "code",
   "execution_count": null,
   "metadata": {},
   "outputs": [],
   "source": [
    "# Looping through lists\n",
    "fruits = [\"apple\", \"banana\", \"cherry\"]\n",
    "for fruit in fruits:\n",
    "    print(f\"I love {fruit}!\")"
   ]
  },
  {
   "cell_type": "code",
   "execution_count": null,
   "metadata": {},
   "outputs": [],
   "source": [
    "# Looping through strings\n",
    "for letter in \"PYTHON\":\n",
    "    print(f\"Letter: {letter}\")"
   ]
  },
  {
   "cell_type": "markdown",
   "metadata": {
    "id": "yJzrST405_qF"
   },
   "source": [
    "### QUESTION\n",
    "What will happen if you try the following?\n",
    "```\n",
    "netaharu = [\"kp\", \"sheru\", \"puspa\"]\n",
    "for index, neta in enumerate(netaharu):\n",
    "    print(f\"{index}: {neta}\")\n",
    "```"
   ]
  },
  {
   "cell_type": "code",
   "execution_count": null,
   "metadata": {},
   "outputs": [],
   "source": []
  },
  {
   "cell_type": "markdown",
   "metadata": {},
   "source": [
    "# 9. While Loops - The Persistent Ones 🔁\n",
    "Keep going until something changes"
   ]
  },
  {
   "cell_type": "code",
   "execution_count": null,
   "metadata": {},
   "outputs": [],
   "source": [
    "# Basic while loop\n",
    "countdown = 5\n",
    "while countdown > 0:\n",
    "    print(f\"Countdown: {countdown}\")\n",
    "    countdown -= 1\n",
    "print(\"🚀 Blast off!\")"
   ]
  },
  {
   "cell_type": "code",
   "execution_count": null,
   "metadata": {},
   "outputs": [],
   "source": [
    "# User input loop\n",
    "password = \"\"\n",
    "while password != \"secret\":\n",
    "    password = input(\"Enter password: \")\n",
    "    if password != \"secret\":\n",
    "        print(\"❌ Wrong password!\")\n",
    "print(\"✅ Access granted!\")"
   ]
  },
  {
   "cell_type": "markdown",
   "metadata": {},
   "source": [
    "#### Infinite loop (careful!)\n",
    "```\n",
    "while True:\n",
    "        print(\"This runs forever!\")\n",
    "```"
   ]
  },
  {
   "cell_type": "markdown",
   "metadata": {},
   "source": [
    "# 10. Functions - Your Code Helpers 🛠️\n",
    "Creating reusable blocks of code"
   ]
  },
  {
   "cell_type": "code",
   "execution_count": null,
   "metadata": {},
   "outputs": [],
   "source": [
    "# Basic function\n",
    "def greet():\n",
    "    print(\"Hello, World!\")\n",
    "\n",
    "greet() "
   ]
  },
  {
   "cell_type": "code",
   "execution_count": null,
   "metadata": {},
   "outputs": [],
   "source": [
    "# Function with parameters\n",
    "def greet_person(name):\n",
    "    print(f\"Hello, {name}!\")\n",
    "\n",
    "greet_person(\"Alice\")"
   ]
  },
  {
   "cell_type": "code",
   "execution_count": null,
   "metadata": {},
   "outputs": [],
   "source": [
    "# Function with return value\n",
    "def add_numbers(a, b):\n",
    "    result = a + b\n",
    "    return result\n",
    "\n",
    "sum_result = add_numbers(5, 3)\n",
    "print(f\"Sum: {sum_result}\")"
   ]
  },
  {
   "cell_type": "markdown",
   "metadata": {},
   "source": [
    "# 11. Lists - The Ordered Collections 📝\n",
    "Storing multiple items in order"
   ]
  },
  {
   "cell_type": "code",
   "execution_count": null,
   "metadata": {},
   "outputs": [],
   "source": [
    "# Creating lists\n",
    "fruits = [\"apple\", \"banana\", \"cherry\"]\n",
    "numbers = [1, 2, 3, 4, 5]\n",
    "mixed = [\"hello\", 42, True, 3.14]"
   ]
  },
  {
   "cell_type": "code",
   "execution_count": null,
   "metadata": {},
   "outputs": [],
   "source": [
    "# Accessing elements\n",
    "print(fruits[0])     # apple (first item)\n",
    "print(fruits[-1])    # cherry (last item)"
   ]
  },
  {
   "cell_type": "code",
   "execution_count": null,
   "metadata": {},
   "outputs": [],
   "source": [
    "# Slicing\n",
    "some_fruits = fruits[1:3] "
   ]
  },
  {
   "cell_type": "code",
   "execution_count": null,
   "metadata": {},
   "outputs": [],
   "source": [
    "# Useful methods\n",
    "print(len(numbers))   \n",
    "print(max(numbers))     \n",
    "print(min(numbers))     \n",
    "print(sum(numbers))  "
   ]
  },
  {
   "cell_type": "markdown",
   "metadata": {
    "id": "yJzrST405_qF"
   },
   "source": [
    "### QUESTION\n",
    "What will happen if you try the following?\n",
    "```\n",
    "scores = [85, 92, 78, 96, 88]\n",
    "scores.sort()           \n",
    "print(scores)           \n",
    "\n",
    "# Reversing\n",
    "scores.reverse()\n",
    "print(scores)  \n",
    "```"
   ]
  },
  {
   "cell_type": "code",
   "execution_count": null,
   "metadata": {},
   "outputs": [],
   "source": []
  },
  {
   "cell_type": "markdown",
   "metadata": {},
   "source": [
    "# 12. Dictionaries - The Key-Value Store 🗂️\n",
    "Storing data with meaningful labels"
   ]
  },
  {
   "cell_type": "code",
   "execution_count": null,
   "metadata": {},
   "outputs": [],
   "source": [
    "# Creating dictionaries\n",
    "student = {\n",
    "    \"name\": \"Ram\",\n",
    "    \"age\": 20,\n",
    "    \"grade\": \"A\",\n",
    "    \"subjects\": [\"Programming\", \"Engineering\"]\n",
    "}"
   ]
  },
  {
   "cell_type": "code",
   "execution_count": null,
   "metadata": {},
   "outputs": [],
   "source": [
    "# Accessing values\n",
    "print(student[\"name\"]) \n",
    "print(student.get(\"age\"))"
   ]
  },
  {
   "cell_type": "markdown",
   "metadata": {
    "id": "yJzrST405_qF"
   },
   "source": [
    "### QUESTION\n",
    "What will happen if you try the following?\n",
    "```\n",
    "student[\"email\"] = \"ramu@example.com\"\n",
    "student[\"age\"] = 21\n",
    "print(student)\n",
    "```"
   ]
  },
  {
   "cell_type": "code",
   "execution_count": null,
   "metadata": {},
   "outputs": [],
   "source": []
  },
  {
   "cell_type": "markdown",
   "metadata": {},
   "source": [
    "# 13. Writing Reusable Scripts - The Philosophy 🎯\n",
    "From messy code to clean, reusable magic"
   ]
  },
  {
   "cell_type": "markdown",
   "metadata": {},
   "source": [
    "#### The Problem:"
   ]
  },
  {
   "cell_type": "code",
   "execution_count": null,
   "metadata": {},
   "outputs": [],
   "source": [
    "# Messy script - does everything at once\n",
    "print(\"Calculator\")\n",
    "num1 = float(input(\"First number: \"))\n",
    "num2 = float(input(\"Second number: \"))\n",
    "result = num1 + num2\n",
    "print(f\"Result: {result}\")"
   ]
  },
  {
   "cell_type": "markdown",
   "metadata": {},
   "source": [
    " What if we want to multiply? Copy-paste everything? 😱"
   ]
  },
  {
   "cell_type": "markdown",
   "metadata": {},
   "source": [
    "#### The Solution:"
   ]
  },
  {
   "cell_type": "code",
   "execution_count": null,
   "metadata": {},
   "outputs": [],
   "source": [
    "# Clean, reusable functions\n",
    "def get_number(prompt):\n",
    "    return float(input(prompt))\n",
    "\n",
    "def calculate(num1, num2, operation):\n",
    "    if operation == \"add\":\n",
    "        return num1 + num2\n",
    "    elif operation == \"multiply\":\n",
    "        return num1 * num2\n",
    "    # More operations..."
   ]
  },
  {
   "cell_type": "markdown",
   "metadata": {},
   "source": [
    "# 14. Python Classes - Creating Your Own Objects 🏗️\n",
    "Classes are like blueprints for creating objects. Think of them as cookie cutters!"
   ]
  },
  {
   "cell_type": "markdown",
   "metadata": {},
   "source": [
    "## Basic Class Example - Person\n",
    "Let's create a simple Person class to understand the basics"
   ]
  },
  {
   "cell_type": "code",
   "execution_count": null,
   "metadata": {},
   "outputs": [
    {
     "name": "stdout",
     "output_type": "stream",
     "text": [
      "Hello, my name is KP Oli and I'm 72 years old!\n",
      "Hello, my name is Prachanda and I'm 70 years old!\n",
      "KP Oli is 72 years old\n"
     ]
    }
   ],
   "source": [
    "# Creating a simple class\n",
    "class Person:\n",
    "    def __init__(self, name, age):\n",
    "        self.name = name\n",
    "        self.age = age\n",
    "    \n",
    "    def greet(self):\n",
    "        return f\"Hello, my name is {self.name} and I'm {self.age} years old!\"\n",
    "    \n",
    "\n",
    "# Creating objects (instances) from the class\n",
    "p1 = Person(\"KP Oli\", 72)\n",
    "p2 = Person(\"Prachanda\", 70)\n",
    "\n",
    "# Using methods\n",
    "print(p1.greet())\n",
    "print(p2.greet())\n",
    "\n",
    "# Accessing attributes\n",
    "print(f\"{p1.name} is {p1.age} years old\") # Bad Practice, but works"
   ]
  },
  {
   "cell_type": "code",
   "execution_count": null,
   "metadata": {},
   "outputs": [
    {
     "name": "stdout",
     "output_type": "stream",
     "text": [
      "Alice\n",
      "25\n"
     ]
    }
   ],
   "source": [
    "# Use Getters and Setters for better practice\n",
    "class Person:\n",
    "    def __init__(self, name, age):\n",
    "        self.name = name \n",
    "        self.age = age\n",
    "    \n",
    "    def get_name(self):\n",
    "        return self.name\n",
    "\n",
    "    def get_age(self):\n",
    "        return self.age\n",
    "    \n",
    "    def set_name(self, name):\n",
    "        self.name = name\n",
    "        \n",
    "    def set_age(self, age):\n",
    "        self.age = age\n",
    "    \n",
    "# Using class methods\n",
    "p1 = Person(\"Alice\", 25)\n",
    "print(p1.get_name())\n",
    "print(p1.get_age())"
   ]
  },
  {
   "cell_type": "markdown",
   "metadata": {},
   "source": [
    "### QUESTION\n",
    "What will happen if you try the following?\n",
    "```python\n",
    "person3 = Person(\"Charlie\", 20)\n",
    "person3.hobby = \"Reading\"  # Adding a new attribute\n",
    "print(f\"{person3.name} likes {person3.hobby}\")\n",
    "```"
   ]
  },
  {
   "cell_type": "markdown",
   "metadata": {},
   "source": [
    "## Calculator Class Example\n",
    "Let's create a simple calculator using classes"
   ]
  },
  {
   "cell_type": "code",
   "execution_count": 21,
   "metadata": {},
   "outputs": [],
   "source": [
    "class Calculator:\n",
    "    def add(self, a, b):\n",
    "        result = a + b\n",
    "        \n",
    "        return result\n",
    "    \n",
    "    def subtract(self, a, b):\n",
    "        result = a - b\n",
    "        \n",
    "        return result\n",
    "    \n",
    "    def multiply(self, a, b):\n",
    "        result = a * b\n",
    "        \n",
    "        return result\n",
    "    \n",
    "    def divide(self, a, b):\n",
    "        result = a / b\n",
    "        \n",
    "        return result\n"
   ]
  },
  {
   "cell_type": "code",
   "execution_count": 22,
   "metadata": {},
   "outputs": [
    {
     "name": "stdout",
     "output_type": "stream",
     "text": [
      "15\n",
      "12\n",
      "5.0\n"
     ]
    }
   ],
   "source": [
    "# Create a calculator object\n",
    "my_calc = Calculator()\n",
    "\n",
    "# Perform some calculations\n",
    "print(my_calc.add(10, 5))\n",
    "print(my_calc.multiply(3, 4))\n",
    "print(my_calc.divide(15, 3))"
   ]
  },
  {
   "cell_type": "code",
   "execution_count": null,
   "metadata": {},
   "outputs": [
    {
     "ename": "ZeroDivisionError",
     "evalue": "division by zero",
     "output_type": "error",
     "traceback": [
      "\u001b[31m---------------------------------------------------------------------------\u001b[39m",
      "\u001b[31mZeroDivisionError\u001b[39m                         Traceback (most recent call last)",
      "\u001b[36mCell\u001b[39m\u001b[36m \u001b[39m\u001b[32mIn[23]\u001b[39m\u001b[32m, line 2\u001b[39m\n\u001b[32m      1\u001b[39m \u001b[38;5;66;03m# Try division by zero\u001b[39;00m\n\u001b[32m----> \u001b[39m\u001b[32m2\u001b[39m \u001b[38;5;28mprint\u001b[39m(\u001b[43mmy_calc\u001b[49m\u001b[43m.\u001b[49m\u001b[43mdivide\u001b[49m\u001b[43m(\u001b[49m\u001b[32;43m10\u001b[39;49m\u001b[43m,\u001b[49m\u001b[43m \u001b[49m\u001b[32;43m0\u001b[39;49m\u001b[43m)\u001b[49m)\n",
      "\u001b[36mCell\u001b[39m\u001b[36m \u001b[39m\u001b[32mIn[21]\u001b[39m\u001b[32m, line 18\u001b[39m, in \u001b[36mCalculator.divide\u001b[39m\u001b[34m(self, a, b)\u001b[39m\n\u001b[32m     17\u001b[39m \u001b[38;5;28;01mdef\u001b[39;00m\u001b[38;5;250m \u001b[39m\u001b[34mdivide\u001b[39m(\u001b[38;5;28mself\u001b[39m, a, b):\n\u001b[32m---> \u001b[39m\u001b[32m18\u001b[39m     result = \u001b[43ma\u001b[49m\u001b[43m \u001b[49m\u001b[43m/\u001b[49m\u001b[43m \u001b[49m\u001b[43mb\u001b[49m\n\u001b[32m     20\u001b[39m     \u001b[38;5;28;01mreturn\u001b[39;00m result\n",
      "\u001b[31mZeroDivisionError\u001b[39m: division by zero"
     ]
    }
   ],
   "source": [
    "# Try division by zero\n",
    "print(my_calc.divide(10, 0))"
   ]
  },
  {
   "cell_type": "markdown",
   "metadata": {},
   "source": [
    "# 15. Error Handling - Expect the Unexpected 🛡️\n",
    "Making your scripts bulletproof"
   ]
  },
  {
   "cell_type": "code",
   "execution_count": 24,
   "metadata": {},
   "outputs": [
    {
     "name": "stdout",
     "output_type": "stream",
     "text": [
      "Cannot divide by zero!\n"
     ]
    }
   ],
   "source": [
    "# Single Exception\n",
    "def safe_divide(a, b):\n",
    "    \"\"\"Division that won't crash your program\"\"\"\n",
    "    try:\n",
    "        result = a / b\n",
    "        return result\n",
    "    except ZeroDivisionError:\n",
    "        print(\"Cannot divide by zero!\")\n",
    "        return None\n",
    "    except TypeError:\n",
    "        print(\"Please provide numbers!\")\n",
    "        return None\n",
    "\n",
    "result = safe_divide(2, 0)"
   ]
  },
  {
   "cell_type": "markdown",
   "metadata": {},
   "source": [
    "# 16. File Operations - Reading and Writing 📁\n",
    "Making your scripts work with files"
   ]
  },
  {
   "cell_type": "code",
   "execution_count": null,
   "metadata": {},
   "outputs": [],
   "source": [
    "# Writing to files\n",
    "def save_data(filename, data):\n",
    "    try:\n",
    "        with open(filename, 'w') as file:\n",
    "            for item in data:\n",
    "                file.write(f\"{item}\\n\")\n",
    "        print(f\"✅ Data saved to {filename}\")\n",
    "    except Exception as e:\n",
    "        print(f\"❌ Error saving: {e}\")\n",
    "\n",
    "# Reading from files\n",
    "def load_data(filename):\n",
    "    try:\n",
    "        with open(filename, 'r') as file:\n",
    "            lines = file.readlines()\n",
    "            return [line.strip() for line in lines]\n",
    "    except FileNotFoundError:\n",
    "        print(f\"❌ File '{filename}' not found!\")\n",
    "        return []\n",
    "\n",
    "# Usage\n",
    "shopping_list = [\"milk\", \"bread\", \"eggs\"]\n",
    "save_data(\"shopping.txt\", shopping_list)\n",
    "loaded_list = load_data(\"shopping.txt\")"
   ]
  },
  {
   "cell_type": "markdown",
   "metadata": {},
   "source": [
    "# 17. Creating Modules - Organizing Your Code 📦\n",
    "Split your code into logical pieces"
   ]
  },
  {
   "cell_type": "markdown",
   "metadata": {},
   "source": [
    "[Open Folder](Scripting/Modules)"
   ]
  },
  {
   "cell_type": "code",
   "execution_count": null,
   "metadata": {},
   "outputs": [],
   "source": []
  },
  {
   "cell_type": "markdown",
   "metadata": {},
   "source": [
    "# API Usage"
   ]
  },
  {
   "cell_type": "markdown",
   "metadata": {},
   "source": [
    "# 19. Simple Currency Exchange System"
   ]
  },
  {
   "cell_type": "markdown",
   "metadata": {},
   "source": [
    "[Open File](API-Usage/currency_exchange_system.py)"
   ]
  },
  {
   "cell_type": "code",
   "execution_count": null,
   "metadata": {},
   "outputs": [],
   "source": []
  },
  {
   "cell_type": "markdown",
   "metadata": {},
   "source": [
    "# 20. Chat with Gemini"
   ]
  },
  {
   "cell_type": "markdown",
   "metadata": {},
   "source": [
    "[Open File](API-Usage\\gemini_chat.py)"
   ]
  },
  {
   "cell_type": "code",
   "execution_count": null,
   "metadata": {},
   "outputs": [],
   "source": []
  },
  {
   "cell_type": "markdown",
   "metadata": {},
   "source": [
    "# Lab/Assignment\n",
    "## Build a CLI tool that consumes an external API\n",
    "## Use key less API like: \n",
    "1.  #### Cat Facts\n",
    "- Get random cat facts via text message every day.\n",
    "```\n",
    "https://cat-fact.herokuapp.com/facts\n",
    "```\n",
    "\n",
    "2. #### Dogs\n",
    "- Cheer yourself up with random dog images.\n",
    "```\n",
    "https://dog.ceo/api/breeds/image/random\n",
    "```\n",
    "\n",
    "3. #### Jokes\n",
    "- Get random jokes. You can also get jokes according to type (e.g., programming jokes only).\n",
    "```\n",
    "https://official-joke-api.appspot.com/random_joke\n",
    "```\n",
    "\n",
    "4. #### Bored\n",
    "- Find something to do by getting suggestions for random activities.\n",
    "```\n",
    "https://www.boredapi.com/api/activity\n",
    "```\n",
    "\n",
    "## Or use API with key like Gemini Above"
   ]
  }
 ],
 "metadata": {
  "colab": {
   "collapsed_sections": [
    "Tyi3ADg1k_Kb",
    "8Kq8b8j2lCRf",
    "Eap0oe3ulFlK",
    "gqRiowXelIi6",
    "Gmic3PW8lLe5",
    "Q6fxQnqElOIv",
    "seAUD-HZlROw",
    "FJ5p0UEQlUhE",
    "ZlfCzuNMlYS1",
    "wpuoUGdalbYY",
    "QktzDmgSld39"
   ],
   "provenance": []
  },
  "kernelspec": {
   "display_name": ".venv",
   "language": "python",
   "name": "python3"
  },
  "language_info": {
   "codemirror_mode": {
    "name": "ipython",
    "version": 3
   },
   "file_extension": ".py",
   "mimetype": "text/x-python",
   "name": "python",
   "nbconvert_exporter": "python",
   "pygments_lexer": "ipython3",
   "version": "3.12.3"
  }
 },
 "nbformat": 4,
 "nbformat_minor": 1
}
